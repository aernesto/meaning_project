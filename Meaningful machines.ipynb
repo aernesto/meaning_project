{
 "cells": [
  {
   "cell_type": "code",
   "execution_count": 1,
   "metadata": {},
   "outputs": [],
   "source": [
    "import numpy as np\n",
    "import matplotlib\n",
    "import matplotlib.pyplot as plt\n",
    "matplotlib.rc('font', size=17)"
   ]
  },
  {
   "cell_type": "code",
   "execution_count": 2,
   "metadata": {},
   "outputs": [],
   "source": [
    "def update_hunger(sttate, count):\n",
    "    hunger = sttate['h']\n",
    "    if count > 0:\n",
    "        return hunger + 1/(np.power(2, count))\n",
    "    else:\n",
    "        return hunger\n",
    "\n",
    "def update_food(sstate, probability, timestep, rgen):\n",
    "    cries, food = sstate['c'], sstate['f']\n",
    "    if cries and not food:\n",
    "        return rgen.choice([0, 1], p=[1-probability, probability])\n",
    "    else:\n",
    "        return 0\n",
    "\n",
    "def eat(sstate):\n",
    "    if sstate['f']:\n",
    "        return {'h': 0, 'f': 1, 'c': 0, 'e': 1}\n",
    "    else:\n",
    "        s = sstate.copy()\n",
    "        s['e'] = 1\n",
    "        return s\n",
    "\n",
    "def check_for_eat(sstate):\n",
    "    if sstate['h'] > 0:\n",
    "        if sstate['f'] == 1:\n",
    "            if sstate['e'] == 0:\n",
    "                return True\n",
    "    return False\n",
    "\n",
    "def check_for_cry(sstate, hunger_threshold):\n",
    "    return sstate['h'] > hunger_threshold\n",
    "        \n",
    "def cry(sstate):\n",
    "    s = sstate.copy()\n",
    "    s['c'], s['e'] = (1, 0)\n",
    "    return s"
   ]
  },
  {
   "cell_type": "code",
   "execution_count": 3,
   "metadata": {},
   "outputs": [],
   "source": [
    "rng = np.random.default_rng()\n",
    "state = {'h': 0, 'f': 0, 'c': 0, 'e': 0}\n",
    "NUM_TIMESTEPS = 50\n",
    "times = np.arange(1, 1 + NUM_TIMESTEPS)\n",
    "P_FOOD = .5\n",
    "HUNGER_THRESHOLD = .9\n",
    "states = [state]\n",
    "cries, eats = [], []\n",
    "last_eaten = 0\n",
    "for t in times:\n",
    "    new_state = states[-1].copy()\n",
    "    \n",
    "    # run food independent dynamics\n",
    "    new_state['f'] = update_food(new_state, P_FOOD, t, rng)\n",
    "    \n",
    "    # reset eating action\n",
    "    new_state['e'] = 0\n",
    "    \n",
    "    if check_for_eat(new_state):\n",
    "#         print(t, 'eats')\n",
    "        new_state = eat(new_state)\n",
    "        eats.append(t)\n",
    "        states.append(new_state)\n",
    "        last_eaten = 0\n",
    "        continue\n",
    "        \n",
    "    last_eaten += 1\n",
    "    \n",
    "    # hunger independent dynamics only happen if not eating\n",
    "    new_state['h'] = update_hunger(new_state, last_eaten)\n",
    "    \n",
    "    if check_for_cry(new_state, HUNGER_THRESHOLD):\n",
    "#         print(t, 'cries')\n",
    "        new_state = cry(new_state)\n",
    "        cries.append(t)\n",
    "        states.append(new_state)\n",
    "        continue\n",
    "    states.append(new_state)\n",
    "del states[0]\n",
    "assert len(set(cries).intersection(set(eats))) == 0"
   ]
  },
  {
   "cell_type": "code",
   "execution_count": 4,
   "metadata": {},
   "outputs": [
    {
     "data": {
      "image/png": "[encoded data removed]",
      "text/plain": [
       "<Figure size 1080x864 with 4 Axes>"
      ]
     },
     "metadata": {
      "needs_background": "light"
     },
     "output_type": "display_data"
    }
   ],
   "source": [
    "f, axes = plt.subplots(4, 1, figsize=(15, 12))\n",
    "for ax, name in zip(axes, state.keys()):\n",
    "    for ii, (t, s) in enumerate(zip(times, [d[name] for d in states])):\n",
    "        if t in cries:\n",
    "            c = 'blue'\n",
    "        elif t in eats:\n",
    "            c = 'red'\n",
    "        else:\n",
    "            c = 'k'\n",
    "        ax.plot(t, s, 'o', color=c)\n",
    "    ax.set_ylabel(name)\n",
    "    ax.set_ylim([-0.1, 1.3])"
   ]
  },
  {
   "cell_type": "code",
   "execution_count": 5,
   "metadata": {},
   "outputs": [
    {
     "name": "stdout",
     "output_type": "stream",
     "text": [
      "[0.5, 0.75, 0.875, 0.9375, 0, 0.5, 0.75, 0.875, 0.9375, 0, 0.5, 0.75, 0.875, 0.9375, 0.96875, 0.984375, 0.9921875, 0.99609375, 0, 0.5, 0.75, 0.875, 0.9375, 0.96875, 0.984375, 0, 0.5, 0.75, 0.875, 0.9375, 0.96875, 0.984375, 0.9921875, 0.99609375, 0.998046875, 0, 0.5, 0.75, 0.875, 0.9375, 0, 0.5, 0.75, 0.875, 0.9375, 0, 0.5, 0.75, 0.875, 0.9375]\n"
     ]
    }
   ],
   "source": [
    "print([d['h'] for d in states])"
   ]
  },
  {
   "cell_type": "code",
   "execution_count": null,
   "metadata": {},
   "outputs": [],
   "source": []
  }
 ],
 "metadata": {
  "kernelspec": {
   "display_name": "meaning",
   "language": "python",
   "name": "meaning"
  },
  "language_info": {
   "codemirror_mode": {
    "name": "ipython",
    "version": 3
   },
   "file_extension": ".py",
   "mimetype": "text/x-python",
   "name": "python",
   "nbconvert_exporter": "python",
   "pygments_lexer": "ipython3",
   "version": "3.9.4"
  }
 },
 "nbformat": 4,
 "nbformat_minor": 4
}
