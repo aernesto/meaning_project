{
 "cells": [
  {
   "cell_type": "code",
   "execution_count": 1,
   "metadata": {},
   "outputs": [],
   "source": [
    "import numpy as np\n",
    "from pprint import pprint\n",
    "import matplotlib\n",
    "import matplotlib.pyplot as plt\n",
    "matplotlib.rc('font', size=17)"
   ]
  },
  {
   "cell_type": "markdown",
   "metadata": {},
   "source": [
    "# Dishonest Answering Machine"
   ]
  },
  {
   "cell_type": "code",
   "execution_count": 2,
   "metadata": {},
   "outputs": [],
   "source": [
    "EMPTYSET = frozenset(set())"
   ]
  },
  {
   "cell_type": "code",
   "execution_count": 3,
   "metadata": {},
   "outputs": [],
   "source": [
    "def food_dynamics(food_presence):\n",
    "    if rng.random() < p_food:\n",
    "        return min(food_presence + 1, 2)\n",
    "    return food_presence\n",
    "    \n",
    "def hunger_dynamics(hunger, time_since_eat):\n",
    "    return hunger + 1/(np.power(2, time_since_eat))\n",
    "#     return hunger + h_decrease/2\n",
    "\n",
    "def question_dynamics(q):\n",
    "    if rng.random() < p_q:\n",
    "        return 1\n",
    "    return 0\n",
    "    \n",
    "def utter_dynamics(u):\n",
    "    return EMPTYSET  \n",
    "\n",
    "def eating_dynamics(e):\n",
    "    if e:\n",
    "        return EMPTYSET\n",
    "    elif e == EMPTYSET:\n",
    "        return 0\n",
    "    return e\n",
    "\n",
    "dynamics = dict(f=food_dynamics, q=question_dynamics, h=hunger_dynamics, u=utter_dynamics, e=eating_dynamics)\n",
    "\n",
    "\n",
    "def plot_food(axis, states, mnings):\n",
    "    times = list(range(len(states['post'])))\n",
    "    for t in times:\n",
    "        if t:\n",
    "            tpre = t - pre_post_offset\n",
    "            tpost = t + pre_post_offset\n",
    "            axis.plot(tpre, states['pre'][t]['f'], 'o', color=meaning_colors[mnings[t]])\n",
    "            axis.plot(tpost, states['post'][t]['f'], '*', color='purple')\n",
    "        else:\n",
    "            axis.plot(t, states['post'][t]['f'], '*', color='purple')\n",
    "    axis.set_ylim([0 - margin, 2 + margin])\n",
    "    axis.set_ylabel('f')\n",
    "    axis.set_xticks(time_steps)\n",
    "    axis.grid()\n",
    "    \n",
    "def plot_question_or_hunger(axis, states, mnings, key):\n",
    "    \"\"\"works for question or hunger\"\"\"\n",
    "    times = list(range(len(states['post'])))\n",
    "    for t in times:\n",
    "        if t:\n",
    "            tpre = t - pre_post_offset\n",
    "            tpost = t + pre_post_offset\n",
    "            axis.plot(tpre, states['pre'][t][key], 'o', color=meaning_colors[mnings[t]])\n",
    "            axis.plot(tpost, states['post'][t][key], '*', color='purple')\n",
    "        else:\n",
    "            axis.plot(t, states['post'][t][key], '*', color='purple')\n",
    "    axis.set_ylabel(key)\n",
    "    axis.set_xticks(time_steps)\n",
    "    if key == 'q':\n",
    "        axis.set_ylim([0 - margin, 1 + margin])\n",
    "        axis.grid()\n",
    "    elif key == 'h':\n",
    "        axis.axhline(h_threshold)\n",
    "        \n",
    "def plot_utterance_or_eating(axis, states, mnings, key):\n",
    "    \"\"\"works for utterance or eating\"\"\"\n",
    "    m = {EMPTYSET: 0, 'yes':2, 'no': 1, 0: 1, 1: 2}\n",
    "    for t in time_steps:\n",
    "        if t:\n",
    "            tpre = t - pre_post_offset\n",
    "            tpost = t + pre_post_offset\n",
    "            axis.plot(tpre, m[states['pre'][t][key]], 'o', color=meaning_colors[mnings[t]])\n",
    "            axis.plot(tpost, m[states['post'][t][key]], '*', color='purple')\n",
    "        else:\n",
    "            axis.plot(t, m[states['pre'][t][key]], '*', color='purple')\n",
    "    axis.set_ylabel(key)\n",
    "    axis.set_ylim([0 - margin, 2 + margin])\n",
    "    axis.set_yticks([0, 1, 2])\n",
    "    if key == 'u':\n",
    "        axis.set_yticklabels(['silent', 'no', 'yes'])\n",
    "    else:\n",
    "        axis.set_yticklabels(['blocked', 'inactive', 'eating'])\n",
    "    axis.set_xticks(time_steps)\n",
    "    axis.grid()\n",
    "    \n",
    "plotter = dict(\n",
    "    f=plot_food, \n",
    "    q=plot_question_or_hunger, \n",
    "    h=plot_question_or_hunger,\n",
    "    u=plot_utterance_or_eating,\n",
    "    e=plot_utterance_or_eating\n",
    ")"
   ]
  },
  {
   "cell_type": "code",
   "execution_count": 4,
   "metadata": {},
   "outputs": [],
   "source": [
    "def eat(sstate):\n",
    "    if sstate['f'] > 0 and sstate['h'] and sstate['u'] == EMPTYSET and sstate['e'] in {0, 1}:\n",
    "        new = sstate.copy()\n",
    "        new['u'] = EMPTYSET\n",
    "        new['e'] = 1\n",
    "        if sstate['f'] > 0:\n",
    "            new['f'] -= 1\n",
    "            new['h'] = max(sstate['h'] - h_decrease, 0)\n",
    "        return new\n",
    "    else:\n",
    "        raise(ValueError('not triggered'))\n",
    "    \n",
    "def utter(sstate):\n",
    "    new = sstate.copy()\n",
    "    if sstate['h'] <= h_threshold:  # not hungry\n",
    "        # there is food\n",
    "        if sstate['f'] > 0 and sstate['q'] and sstate['e'] in {EMPTYSET, 0}:\n",
    "            new['u'] = 'yes'\n",
    "            new['e'] = 0\n",
    "            return new\n",
    "        # there is no food\n",
    "        elif sstate['f'] == 0 and sstate['q'] and sstate['e'] in {EMPTYSET, 0}:\n",
    "            new['u'] = 'no'\n",
    "            new['e'] = 0\n",
    "            return new\n",
    "        else:\n",
    "            raise(ValueError('not triggered'))\n",
    "    else:  # hungry\n",
    "        if sstate['q'] and sstate['e'] in {EMPTYSET, 0}:\n",
    "            new['u'] = 'no'\n",
    "            new['e'] = 0\n",
    "            return new\n",
    "        else:\n",
    "            raise(ValueError('not triggered'))"
   ]
  },
  {
   "cell_type": "code",
   "execution_count": 5,
   "metadata": {},
   "outputs": [
    {
     "data": {
      "text/plain": [
       "True"
      ]
     },
     "execution_count": 5,
     "metadata": {},
     "output_type": "execute_result"
    }
   ],
   "source": [
    "for iii in range(10000):\n",
    "    rng = np.random.default_rng(iii)\n",
    "    start_time = 0\n",
    "    time_steps = [start_time]\n",
    "    time_horizon = 10\n",
    "    pre_post_offset = .08\n",
    "    last_eat = 0  # counter timesteps since last eaten\n",
    "    p_q = .7  # prob ask question\n",
    "    p_food = .7  # prob food replenishes\n",
    "    h_threshold = .55  # hunger threshold\n",
    "    h_decrease = 8/10  # hunger decrement step\n",
    "    start_state = dict(f=0, q=0, h=0, u=EMPTYSET, e=0)\n",
    "#     pprint(start_state)\n",
    "#     pprint(start_state.copy())\n",
    "    pre_action_state_logger = {start_time: start_state}\n",
    "    post_action_state_logger = {start_time: start_state}\n",
    "    meanings = ['neutral']\n",
    "    meaning_colors = {'neutral': 'k', 'eat': 'red', 'yes': 'green', 'no': 'blue'}\n",
    "    margin = .2\n",
    "\n",
    "    while start_time < time_horizon:    \n",
    "        assert start_state['h'] >= 0\n",
    "        start_time += 1\n",
    "        time_steps.append(start_time)\n",
    "        last_eat += 1\n",
    "        new_state = start_state.copy()\n",
    "\n",
    "        # apply independent dynamics\n",
    "        for k, s in start_state.items():\n",
    "            if k == 'h':\n",
    "                new_state[k] = dynamics[k](s, last_eat)\n",
    "            else:\n",
    "                new_state[k] = dynamics[k](s)\n",
    "            if new_state[k] is None:\n",
    "                print(f'pb at time {start_time}')\n",
    "                raise(ValueError(f'{k}'))\n",
    "\n",
    "        pre_action_state_logger[start_time] = new_state\n",
    "\n",
    "        # act\n",
    "        try:  # first try to eat (priority action)\n",
    "            new_state = eat(new_state)\n",
    "            last_eat = 0\n",
    "            meanings.append('eat')\n",
    "        except ValueError:\n",
    "            try:  # if eating fails, try to utter\n",
    "                new_state = utter(new_state)\n",
    "                meanings.append(new_state['u'])\n",
    "            except ValueError:\n",
    "                meanings.append('neutral')\n",
    "\n",
    "        post_action_state_logger[start_time] = new_state\n",
    "        start_state = new_state\n",
    "    # print(f'total number of timesteps {start_time + 1}')\n",
    "    assert start_time+1 == len(post_action_state_logger)\n",
    "    assert start_time+1 == len(pre_action_state_logger)\n",
    "    assert start_time+1 == len(meanings)\n",
    "    assert start_time+1 == len(time_steps)\n",
    "\n",
    "    lies = []\n",
    "    for t, m in zip(time_steps, meanings):\n",
    "        if pre_action_state_logger[t]['f'] and m == 'no':\n",
    "            lies.append(True)\n",
    "        else:\n",
    "            lies.append(False)\n",
    "\n",
    "    if any(lies) and 'yes' in meanings and 'no' in meanings:\n",
    "        break\n",
    "any(lies) and 'yes' in meanings and 'no' in meanings"
   ]
  },
  {
   "cell_type": "code",
   "execution_count": 6,
   "metadata": {},
   "outputs": [
    {
     "name": "stdout",
     "output_type": "stream",
     "text": [
      "working seed was 13\n"
     ]
    }
   ],
   "source": [
    "print(f'working seed was {iii}')"
   ]
  },
  {
   "cell_type": "code",
   "execution_count": 7,
   "metadata": {},
   "outputs": [
    {
     "name": "stdout",
     "output_type": "stream",
     "text": [
      "{'eat': 'red', 'neutral': 'k', 'no': 'blue', 'yes': 'green'}\n"
     ]
    },
    {
     "data": {
      "image/png": "[encoded data removed]",
      "text/plain": [
       "<Figure size 1080x864 with 5 Axes>"
      ]
     },
     "metadata": {
      "needs_background": "light"
     },
     "output_type": "display_data"
    }
   ],
   "source": [
    "pprint(meaning_colors)\n",
    "all_states = {'pre': pre_action_state_logger, 'post': post_action_state_logger}\n",
    "fig, axes = plt.subplots(len(start_state), 1, figsize=(15, 12))\n",
    "plotter['f'](axes[0], all_states, meanings)\n",
    "plotter['q'](axes[1], all_states, meanings, 'q')\n",
    "plotter['h'](axes[2], all_states, meanings, 'h')\n",
    "plotter['u'](axes[3], all_states, meanings, 'u')\n",
    "plotter['e'](axes[4], all_states, meanings, 'e')\n",
    "fig.tight_layout()"
   ]
  }
 ],
 "metadata": {
  "kernelspec": {
   "display_name": "meaning",
   "language": "python",
   "name": "meaning"
  },
  "language_info": {
   "codemirror_mode": {
    "name": "ipython",
    "version": 3
   },
   "file_extension": ".py",
   "mimetype": "text/x-python",
   "name": "python",
   "nbconvert_exporter": "python",
   "pygments_lexer": "ipython3",
   "version": "3.9.4"
  }
 },
 "nbformat": 4,
 "nbformat_minor": 4
}
